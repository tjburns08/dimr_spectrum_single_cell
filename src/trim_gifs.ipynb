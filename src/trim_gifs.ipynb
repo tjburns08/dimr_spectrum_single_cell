{
 "cells": [
  {
   "cell_type": "markdown",
   "metadata": {},
   "source": [
    "Here, we will trim the gifs in preparation for external displays, like social media posts."
   ]
  },
  {
   "cell_type": "code",
   "execution_count": 1,
   "metadata": {},
   "outputs": [
    {
     "name": "stderr",
     "output_type": "stream",
     "text": [
      "/var/folders/6y/qgvrbn_j2v35vfy946hlhh9c0000gn/T/ipykernel_35118/2452740945.py:24: DeprecationWarning: Starting with ImageIO v3 the behavior of this function will switch to that of iio.v3.imread. To keep the current behavior (and make this warning disappear) use `import imageio.v2 as imageio` or call `imageio.v2.imread` directly.\n",
      "  images = [imageio.imread(image_file) for image_file in image_files]\n"
     ]
    }
   ],
   "source": [
    "import cne\n",
    "import matplotlib.pyplot as plt\n",
    "import imageio\n",
    "import numpy as np\n",
    "from PIL import Image\n",
    "import os\n",
    "\n",
    "images_dir = \"../output/samusik_10k_cells\"\n",
    "start_number = -1.3\n",
    "end_number = 1.7\n",
    "\n",
    "spec_params = np.arange(start_number, end_number, 0.1)\n",
    "\n",
    "# Get files from directory\n",
    "image_files = []\n",
    "for s in spec_params:\n",
    "    curr = os.path.join(images_dir, f\"resized_embedding_s_{s:.1f}.png\")\n",
    "    image_files.append(curr)\n",
    "\n",
    "# And get the same files in reverse order    \n",
    "image_files += image_files[::-1]\n",
    "\n",
    "# Re-make the gif \n",
    "images = [imageio.imread(image_file) for image_file in image_files]\n",
    "imageio.mimsave(os.path.join(images_dir, f\"spectrum_animation_{start_number}_{end_number}.gif\"), images, duration=0.1, loop = 0)"
   ]
  }
 ],
 "metadata": {
  "kernelspec": {
   "display_name": ".venv",
   "language": "python",
   "name": "python3"
  },
  "language_info": {
   "codemirror_mode": {
    "name": "ipython",
    "version": 3
   },
   "file_extension": ".py",
   "mimetype": "text/x-python",
   "name": "python",
   "nbconvert_exporter": "python",
   "pygments_lexer": "ipython3",
   "version": "3.12.1"
  }
 },
 "nbformat": 4,
 "nbformat_minor": 2
}
