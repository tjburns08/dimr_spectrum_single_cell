{
 "cells": [
  {
   "cell_type": "markdown",
   "metadata": {},
   "source": [
    "Here, we're going to take what we learned in sandbox and make the set of pics that gets turned into a gif. First, bring in the CyTOF data."
   ]
  },
  {
   "cell_type": "code",
   "execution_count": 34,
   "metadata": {},
   "outputs": [],
   "source": [
    "import rpy2.robjects as robjects\n",
    "import pandas as pd\n",
    "import os\n",
    "\n",
    "# Define the path to your .rds file\n",
    "marie = '../data/cytof/marie_processed/processed_surface.rds'\n",
    "samusik = '../data/cytof/samusik_processed/samusik_processed.rds'\n",
    "rds_path = samusik\n",
    "\n",
    "# Define the directory to save the images\n",
    "save_dir = \"../output/samusik_10k_cells\"\n",
    "os.makedirs(save_dir, exist_ok=True)  # Create the directory if it doesn't exist\n",
    "\n",
    "# Load the .rds file\n",
    "readRDS = robjects.r['readRDS']\n",
    "cells = readRDS(rds_path)\n",
    "\n",
    "# Convert R data to a Python-friendly format (if needed)\n",
    "# This depends on the type of data stored in the .rds file\n",
    "# For example, if it's a dataframe, you might convert it to a pandas dataframe:\n",
    "from rpy2.robjects import pandas2ri\n",
    "pandas2ri.activate()\n",
    "\n",
    "cells = pandas2ri.rpy2py(cells)\n",
    "\n",
    "# Subsample\n",
    "num_cells = 10000\n",
    "cells = cells.values[:num_cells]"
   ]
  },
  {
   "cell_type": "markdown",
   "metadata": {},
   "source": [
    "Now we make the loop for the image production."
   ]
  },
  {
   "cell_type": "code",
   "execution_count": 35,
   "metadata": {},
   "outputs": [
    {
     "name": "stdout",
     "output_type": "stream",
     "text": [
      "Computing approximate kNN graph with annoy\n"
     ]
    },
    {
     "name": "stderr",
     "output_type": "stream",
     "text": [
      "Finished epoch 0/200, loss 68585.756\n",
      "Finished epoch 40/200, loss 55950.843\n",
      "Finished epoch 80/200, loss 474851.894\n",
      "Finished epoch 120/200, loss 332868.192\n",
      "Finished epoch 160/200, loss 295580.366\n"
     ]
    },
    {
     "name": "stdout",
     "output_type": "stream",
     "text": [
      "Computing approximate kNN graph with annoy\n"
     ]
    },
    {
     "name": "stderr",
     "output_type": "stream",
     "text": [
      "Finished epoch 0/200, loss 68585.756\n",
      "Finished epoch 40/200, loss 55950.843\n",
      "Finished epoch 80/200, loss 435603.596\n",
      "Finished epoch 120/200, loss 300368.579\n",
      "Finished epoch 160/200, loss 265670.978\n"
     ]
    },
    {
     "name": "stdout",
     "output_type": "stream",
     "text": [
      "Computing approximate kNN graph with annoy\n"
     ]
    },
    {
     "name": "stderr",
     "output_type": "stream",
     "text": [
      "Finished epoch 0/200, loss 68585.756\n",
      "Finished epoch 40/200, loss 55950.843\n",
      "Finished epoch 80/200, loss 397855.635\n",
      "Finished epoch 120/200, loss 270135.584\n",
      "Finished epoch 160/200, loss 238159.113\n"
     ]
    },
    {
     "name": "stdout",
     "output_type": "stream",
     "text": [
      "Computing approximate kNN graph with annoy\n"
     ]
    },
    {
     "name": "stderr",
     "output_type": "stream",
     "text": [
      "Finished epoch 0/200, loss 68585.756\n",
      "Finished epoch 40/200, loss 55950.843\n",
      "Finished epoch 80/200, loss 361801.786\n",
      "Finished epoch 120/200, loss 242272.196\n",
      "Finished epoch 160/200, loss 213074.428\n"
     ]
    },
    {
     "name": "stdout",
     "output_type": "stream",
     "text": [
      "Computing approximate kNN graph with annoy\n"
     ]
    },
    {
     "name": "stderr",
     "output_type": "stream",
     "text": [
      "Finished epoch 0/200, loss 68585.756\n",
      "Finished epoch 40/200, loss 55950.843\n",
      "Finished epoch 80/200, loss 327576.683\n",
      "Finished epoch 120/200, loss 216867.101\n",
      "Finished epoch 160/200, loss 190458.465\n"
     ]
    },
    {
     "name": "stdout",
     "output_type": "stream",
     "text": [
      "Computing approximate kNN graph with annoy\n"
     ]
    },
    {
     "name": "stderr",
     "output_type": "stream",
     "text": [
      "Finished epoch 0/200, loss 68585.756\n",
      "Finished epoch 40/200, loss 55950.843\n",
      "Finished epoch 80/200, loss 295462.520\n",
      "Finished epoch 120/200, loss 193899.032\n",
      "Finished epoch 160/200, loss 170211.563\n"
     ]
    },
    {
     "name": "stdout",
     "output_type": "stream",
     "text": [
      "Computing approximate kNN graph with annoy\n"
     ]
    },
    {
     "name": "stderr",
     "output_type": "stream",
     "text": [
      "Finished epoch 0/200, loss 68585.756\n",
      "Finished epoch 40/200, loss 55950.843\n",
      "Finished epoch 80/200, loss 265569.824\n",
      "Finished epoch 120/200, loss 173277.277\n",
      "Finished epoch 160/200, loss 152259.238\n"
     ]
    },
    {
     "name": "stdout",
     "output_type": "stream",
     "text": [
      "Computing approximate kNN graph with annoy\n"
     ]
    },
    {
     "name": "stderr",
     "output_type": "stream",
     "text": [
      "Finished epoch 0/200, loss 68585.756\n",
      "Finished epoch 40/200, loss 55950.843\n",
      "Finished epoch 80/200, loss 237979.549\n",
      "Finished epoch 120/200, loss 154950.538\n",
      "Finished epoch 160/200, loss 136417.509\n"
     ]
    },
    {
     "name": "stdout",
     "output_type": "stream",
     "text": [
      "Computing approximate kNN graph with annoy\n"
     ]
    },
    {
     "name": "stderr",
     "output_type": "stream",
     "text": [
      "Finished epoch 0/200, loss 68585.756\n",
      "Finished epoch 40/200, loss 55950.843\n",
      "Finished epoch 80/200, loss 212786.209\n",
      "Finished epoch 120/200, loss 138777.685\n",
      "Finished epoch 160/200, loss 122507.911\n"
     ]
    },
    {
     "name": "stdout",
     "output_type": "stream",
     "text": [
      "Computing approximate kNN graph with annoy\n"
     ]
    },
    {
     "name": "stderr",
     "output_type": "stream",
     "text": [
      "Finished epoch 0/200, loss 68585.756\n",
      "Finished epoch 40/200, loss 55950.843\n",
      "Finished epoch 80/200, loss 190039.741\n",
      "Finished epoch 120/200, loss 124523.166\n",
      "Finished epoch 160/200, loss 110332.061\n"
     ]
    },
    {
     "name": "stdout",
     "output_type": "stream",
     "text": [
      "Computing approximate kNN graph with annoy\n"
     ]
    },
    {
     "name": "stderr",
     "output_type": "stream",
     "text": [
      "Finished epoch 0/200, loss 68585.756\n",
      "Finished epoch 40/200, loss 55950.843\n",
      "Finished epoch 80/200, loss 169633.288\n",
      "Finished epoch 120/200, loss 112071.166\n",
      "Finished epoch 160/200, loss 99690.604\n"
     ]
    },
    {
     "name": "stdout",
     "output_type": "stream",
     "text": [
      "Computing approximate kNN graph with annoy\n"
     ]
    },
    {
     "name": "stderr",
     "output_type": "stream",
     "text": [
      "Finished epoch 0/200, loss 68585.756\n",
      "Finished epoch 40/200, loss 55950.843\n",
      "Finished epoch 80/200, loss 151512.634\n",
      "Finished epoch 120/200, loss 101166.202\n",
      "Finished epoch 160/200, loss 90364.601\n"
     ]
    },
    {
     "name": "stdout",
     "output_type": "stream",
     "text": [
      "Computing approximate kNN graph with annoy\n"
     ]
    },
    {
     "name": "stderr",
     "output_type": "stream",
     "text": [
      "Finished epoch 0/200, loss 68585.756\n",
      "Finished epoch 40/200, loss 55950.843\n",
      "Finished epoch 80/200, loss 135513.952\n",
      "Finished epoch 120/200, loss 91605.730\n",
      "Finished epoch 160/200, loss 82120.233\n"
     ]
    },
    {
     "name": "stdout",
     "output_type": "stream",
     "text": [
      "Computing approximate kNN graph with annoy\n"
     ]
    },
    {
     "name": "stderr",
     "output_type": "stream",
     "text": [
      "Finished epoch 0/200, loss 68585.756\n",
      "Finished epoch 40/200, loss 55950.843\n",
      "Finished epoch 80/200, loss 121457.574\n",
      "Finished epoch 120/200, loss 83167.339\n",
      "Finished epoch 160/200, loss 74726.978\n"
     ]
    },
    {
     "name": "stdout",
     "output_type": "stream",
     "text": [
      "Computing approximate kNN graph with annoy\n"
     ]
    },
    {
     "name": "stderr",
     "output_type": "stream",
     "text": [
      "Finished epoch 0/200, loss 68585.756\n",
      "Finished epoch 40/200, loss 55950.843\n",
      "Finished epoch 80/200, loss 109129.250\n",
      "Finished epoch 120/200, loss 75636.761\n",
      "Finished epoch 160/200, loss 67972.452\n"
     ]
    },
    {
     "name": "stdout",
     "output_type": "stream",
     "text": [
      "Computing approximate kNN graph with annoy\n"
     ]
    },
    {
     "name": "stderr",
     "output_type": "stream",
     "text": [
      "Finished epoch 0/200, loss 68585.756\n",
      "Finished epoch 40/200, loss 55950.843\n",
      "Finished epoch 80/200, loss 98341.876\n",
      "Finished epoch 120/200, loss 68744.620\n",
      "Finished epoch 160/200, loss 61674.750\n"
     ]
    },
    {
     "name": "stdout",
     "output_type": "stream",
     "text": [
      "Computing approximate kNN graph with annoy\n"
     ]
    },
    {
     "name": "stderr",
     "output_type": "stream",
     "text": [
      "Finished epoch 0/200, loss 68585.756\n",
      "Finished epoch 40/200, loss 55950.843\n",
      "Finished epoch 80/200, loss 88862.169\n",
      "Finished epoch 120/200, loss 62351.883\n",
      "Finished epoch 160/200, loss 55701.816\n"
     ]
    },
    {
     "name": "stdout",
     "output_type": "stream",
     "text": [
      "Computing approximate kNN graph with annoy\n"
     ]
    },
    {
     "name": "stderr",
     "output_type": "stream",
     "text": [
      "Finished epoch 0/200, loss 68585.756\n",
      "Finished epoch 40/200, loss 55950.843\n",
      "Finished epoch 80/200, loss 80416.266\n",
      "Finished epoch 120/200, loss 56230.179\n",
      "Finished epoch 160/200, loss 49791.461\n"
     ]
    },
    {
     "name": "stdout",
     "output_type": "stream",
     "text": [
      "Computing approximate kNN graph with annoy\n"
     ]
    },
    {
     "name": "stderr",
     "output_type": "stream",
     "text": [
      "Finished epoch 0/200, loss 68585.756\n",
      "Finished epoch 40/200, loss 55950.843\n",
      "Finished epoch 80/200, loss 72792.466\n",
      "Finished epoch 120/200, loss 50208.289\n",
      "Finished epoch 160/200, loss 44134.636\n"
     ]
    },
    {
     "name": "stdout",
     "output_type": "stream",
     "text": [
      "Computing approximate kNN graph with annoy\n"
     ]
    },
    {
     "name": "stderr",
     "output_type": "stream",
     "text": [
      "Finished epoch 0/200, loss 68585.756\n",
      "Finished epoch 40/200, loss 55950.843\n",
      "Finished epoch 80/200, loss 65695.392\n",
      "Finished epoch 120/200, loss 44515.024\n",
      "Finished epoch 160/200, loss 39149.296\n"
     ]
    },
    {
     "name": "stdout",
     "output_type": "stream",
     "text": [
      "Computing approximate kNN graph with annoy\n"
     ]
    },
    {
     "name": "stderr",
     "output_type": "stream",
     "text": [
      "Finished epoch 0/200, loss 68585.756\n",
      "Finished epoch 40/200, loss 55950.843\n",
      "Finished epoch 80/200, loss 59083.148\n",
      "Finished epoch 120/200, loss 39590.709\n",
      "Finished epoch 160/200, loss 35145.700\n"
     ]
    },
    {
     "name": "stdout",
     "output_type": "stream",
     "text": [
      "Computing approximate kNN graph with annoy\n"
     ]
    },
    {
     "name": "stderr",
     "output_type": "stream",
     "text": [
      "Finished epoch 0/200, loss 68585.756\n",
      "Finished epoch 40/200, loss 55950.843\n",
      "Finished epoch 80/200, loss 52854.256\n",
      "Finished epoch 120/200, loss 35642.439\n",
      "Finished epoch 160/200, loss 32124.215\n"
     ]
    },
    {
     "name": "stdout",
     "output_type": "stream",
     "text": [
      "Computing approximate kNN graph with annoy\n"
     ]
    },
    {
     "name": "stderr",
     "output_type": "stream",
     "text": [
      "Finished epoch 0/200, loss 68585.756\n",
      "Finished epoch 40/200, loss 55950.843\n",
      "Finished epoch 80/200, loss 47218.528\n",
      "Finished epoch 120/200, loss 32545.933\n",
      "Finished epoch 160/200, loss 29791.573\n"
     ]
    },
    {
     "name": "stdout",
     "output_type": "stream",
     "text": [
      "Computing approximate kNN graph with annoy\n"
     ]
    },
    {
     "name": "stderr",
     "output_type": "stream",
     "text": [
      "Finished epoch 0/200, loss 68585.756\n",
      "Finished epoch 40/200, loss 55950.843\n",
      "Finished epoch 80/200, loss 42071.895\n",
      "Finished epoch 120/200, loss 30203.279\n",
      "Finished epoch 160/200, loss 28094.886\n"
     ]
    },
    {
     "name": "stdout",
     "output_type": "stream",
     "text": [
      "Computing approximate kNN graph with annoy\n"
     ]
    },
    {
     "name": "stderr",
     "output_type": "stream",
     "text": [
      "Finished epoch 0/200, loss 68585.756\n",
      "Finished epoch 40/200, loss 55950.843\n",
      "Finished epoch 80/200, loss 37775.290\n",
      "Finished epoch 120/200, loss 28453.810\n",
      "Finished epoch 160/200, loss 26783.800\n"
     ]
    },
    {
     "name": "stdout",
     "output_type": "stream",
     "text": [
      "Computing approximate kNN graph with annoy\n"
     ]
    },
    {
     "name": "stderr",
     "output_type": "stream",
     "text": [
      "Finished epoch 0/200, loss 68585.756\n",
      "Finished epoch 40/200, loss 55950.843\n",
      "Finished epoch 80/200, loss 34341.820\n",
      "Finished epoch 120/200, loss 27130.182\n",
      "Finished epoch 160/200, loss 25784.284\n"
     ]
    },
    {
     "name": "stdout",
     "output_type": "stream",
     "text": [
      "Computing approximate kNN graph with annoy\n"
     ]
    },
    {
     "name": "stderr",
     "output_type": "stream",
     "text": [
      "Finished epoch 0/200, loss 68585.756\n",
      "Finished epoch 40/200, loss 55950.843\n",
      "Finished epoch 80/200, loss 31785.369\n",
      "Finished epoch 120/200, loss 26119.808\n",
      "Finished epoch 160/200, loss 25020.503\n"
     ]
    },
    {
     "name": "stdout",
     "output_type": "stream",
     "text": [
      "Computing approximate kNN graph with annoy\n"
     ]
    },
    {
     "name": "stderr",
     "output_type": "stream",
     "text": [
      "Finished epoch 0/200, loss 68585.756\n",
      "Finished epoch 40/200, loss 55950.843\n",
      "Finished epoch 80/200, loss 29819.581\n",
      "Finished epoch 120/200, loss 25374.110\n",
      "Finished epoch 160/200, loss 24458.719\n"
     ]
    },
    {
     "name": "stdout",
     "output_type": "stream",
     "text": [
      "Computing approximate kNN graph with annoy\n"
     ]
    },
    {
     "name": "stderr",
     "output_type": "stream",
     "text": [
      "Finished epoch 0/200, loss 68585.756\n",
      "Finished epoch 40/200, loss 55950.843\n",
      "Finished epoch 80/200, loss 28346.201\n",
      "Finished epoch 120/200, loss 24822.081\n",
      "Finished epoch 160/200, loss 24049.241\n"
     ]
    },
    {
     "name": "stdout",
     "output_type": "stream",
     "text": [
      "Computing approximate kNN graph with annoy\n"
     ]
    },
    {
     "name": "stderr",
     "output_type": "stream",
     "text": [
      "Finished epoch 0/200, loss 68585.756\n",
      "Finished epoch 40/200, loss 55950.843\n",
      "Finished epoch 80/200, loss 27271.914\n",
      "Finished epoch 120/200, loss 24462.236\n",
      "Finished epoch 160/200, loss 23788.100\n"
     ]
    },
    {
     "name": "stdout",
     "output_type": "stream",
     "text": [
      "Computing approximate kNN graph with annoy\n"
     ]
    },
    {
     "name": "stderr",
     "output_type": "stream",
     "text": [
      "Finished epoch 0/200, loss 68585.756\n",
      "Finished epoch 40/200, loss 55950.843\n",
      "Finished epoch 80/200, loss 26526.844\n",
      "Finished epoch 120/200, loss 24273.788\n",
      "Finished epoch 160/200, loss 23658.752\n"
     ]
    },
    {
     "name": "stdout",
     "output_type": "stream",
     "text": [
      "Computing approximate kNN graph with annoy\n"
     ]
    },
    {
     "name": "stderr",
     "output_type": "stream",
     "text": [
      "Finished epoch 0/200, loss 68585.756\n",
      "Finished epoch 40/200, loss 55950.843\n",
      "Finished epoch 80/200, loss 26092.762\n",
      "Finished epoch 120/200, loss 24254.069\n",
      "Finished epoch 160/200, loss 23661.578\n"
     ]
    },
    {
     "name": "stdout",
     "output_type": "stream",
     "text": [
      "Computing approximate kNN graph with annoy\n"
     ]
    },
    {
     "name": "stderr",
     "output_type": "stream",
     "text": [
      "Finished epoch 0/200, loss 68585.756\n",
      "Finished epoch 40/200, loss 55950.843\n",
      "Finished epoch 80/200, loss 25963.707\n",
      "Finished epoch 120/200, loss 24409.988\n",
      "Finished epoch 160/200, loss 23810.539\n"
     ]
    },
    {
     "name": "stdout",
     "output_type": "stream",
     "text": [
      "Computing approximate kNN graph with annoy\n"
     ]
    },
    {
     "name": "stderr",
     "output_type": "stream",
     "text": [
      "Finished epoch 0/200, loss 68585.756\n",
      "Finished epoch 40/200, loss 55950.843\n",
      "Finished epoch 80/200, loss 26187.605\n",
      "Finished epoch 120/200, loss 24774.086\n",
      "Finished epoch 160/200, loss 24120.206\n"
     ]
    },
    {
     "name": "stdout",
     "output_type": "stream",
     "text": [
      "Computing approximate kNN graph with annoy\n"
     ]
    },
    {
     "name": "stderr",
     "output_type": "stream",
     "text": [
      "Finished epoch 0/200, loss 68585.756\n",
      "Finished epoch 40/200, loss 55950.843\n",
      "Finished epoch 80/200, loss 26872.216\n",
      "Finished epoch 120/200, loss 25394.867\n",
      "Finished epoch 160/200, loss 24623.889\n"
     ]
    },
    {
     "name": "stdout",
     "output_type": "stream",
     "text": [
      "Computing approximate kNN graph with annoy\n"
     ]
    },
    {
     "name": "stderr",
     "output_type": "stream",
     "text": [
      "Finished epoch 0/200, loss 68585.756\n",
      "Finished epoch 40/200, loss 55950.843\n",
      "Finished epoch 80/200, loss 28238.197\n",
      "Finished epoch 120/200, loss 26348.391\n",
      "Finished epoch 160/200, loss 25368.477\n"
     ]
    },
    {
     "name": "stdout",
     "output_type": "stream",
     "text": [
      "Computing approximate kNN graph with annoy\n"
     ]
    },
    {
     "name": "stderr",
     "output_type": "stream",
     "text": [
      "Finished epoch 0/200, loss 68585.756\n",
      "Finished epoch 40/200, loss 55950.843\n",
      "Finished epoch 80/200, loss 30488.818\n",
      "Finished epoch 120/200, loss 27771.201\n",
      "Finished epoch 160/200, loss 26413.301\n"
     ]
    },
    {
     "name": "stdout",
     "output_type": "stream",
     "text": [
      "Computing approximate kNN graph with annoy\n"
     ]
    },
    {
     "name": "stderr",
     "output_type": "stream",
     "text": [
      "Finished epoch 0/200, loss 68585.756\n",
      "Finished epoch 40/200, loss 55950.843\n",
      "Finished epoch 80/200, loss 33779.400\n",
      "Finished epoch 120/200, loss 29922.070\n",
      "Finished epoch 160/200, loss 27843.745\n"
     ]
    },
    {
     "name": "stdout",
     "output_type": "stream",
     "text": [
      "Computing approximate kNN graph with annoy\n"
     ]
    },
    {
     "name": "stderr",
     "output_type": "stream",
     "text": [
      "Finished epoch 0/200, loss 68585.756\n",
      "Finished epoch 40/200, loss 55950.843\n",
      "Finished epoch 80/200, loss 38097.148\n",
      "Finished epoch 120/200, loss 32895.362\n",
      "Finished epoch 160/200, loss 29734.812\n"
     ]
    },
    {
     "name": "stdout",
     "output_type": "stream",
     "text": [
      "Computing approximate kNN graph with annoy\n"
     ]
    },
    {
     "name": "stderr",
     "output_type": "stream",
     "text": [
      "Finished epoch 0/200, loss 68585.756\n",
      "Finished epoch 40/200, loss 55950.843\n",
      "Finished epoch 80/200, loss 43223.028\n",
      "Finished epoch 120/200, loss 36759.105\n",
      "Finished epoch 160/200, loss 32204.500\n"
     ]
    },
    {
     "name": "stdout",
     "output_type": "stream",
     "text": [
      "Computing approximate kNN graph with annoy\n"
     ]
    },
    {
     "name": "stderr",
     "output_type": "stream",
     "text": [
      "Finished epoch 0/200, loss 68585.756\n",
      "Finished epoch 40/200, loss 56086.974\n",
      "Finished epoch 80/200, loss 49078.176\n",
      "Finished epoch 120/200, loss 41455.396\n",
      "Finished epoch 160/200, loss 35316.123\n"
     ]
    },
    {
     "name": "stdout",
     "output_type": "stream",
     "text": [
      "Computing approximate kNN graph with annoy\n"
     ]
    },
    {
     "name": "stderr",
     "output_type": "stream",
     "text": [
      "Finished epoch 0/200, loss 72832.369\n",
      "Finished epoch 40/200, loss 63084.697\n",
      "Finished epoch 80/200, loss 55452.997\n",
      "Finished epoch 120/200, loss 46954.043\n",
      "Finished epoch 160/200, loss 39143.319\n"
     ]
    },
    {
     "name": "stdout",
     "output_type": "stream",
     "text": [
      "Computing approximate kNN graph with annoy\n"
     ]
    },
    {
     "name": "stderr",
     "output_type": "stream",
     "text": [
      "Finished epoch 0/200, loss 78024.545\n",
      "Finished epoch 40/200, loss 70400.788\n",
      "Finished epoch 80/200, loss 62480.982\n",
      "Finished epoch 120/200, loss 52990.610\n",
      "Finished epoch 160/200, loss 43741.818\n"
     ]
    },
    {
     "name": "stdout",
     "output_type": "stream",
     "text": [
      "Computing approximate kNN graph with annoy\n"
     ]
    },
    {
     "name": "stderr",
     "output_type": "stream",
     "text": [
      "Finished epoch 0/200, loss 83844.528\n",
      "Finished epoch 40/200, loss 78027.517\n",
      "Finished epoch 80/200, loss 69777.897\n",
      "Finished epoch 120/200, loss 59640.120\n",
      "Finished epoch 160/200, loss 49048.718\n"
     ]
    },
    {
     "name": "stdout",
     "output_type": "stream",
     "text": [
      "Computing approximate kNN graph with annoy\n"
     ]
    },
    {
     "name": "stderr",
     "output_type": "stream",
     "text": [
      "Finished epoch 0/200, loss 90214.884\n",
      "Finished epoch 40/200, loss 86033.624\n",
      "Finished epoch 80/200, loss 77352.720\n",
      "Finished epoch 120/200, loss 66576.925\n",
      "Finished epoch 160/200, loss 54938.989\n"
     ]
    },
    {
     "name": "stdout",
     "output_type": "stream",
     "text": [
      "Computing approximate kNN graph with annoy\n"
     ]
    },
    {
     "name": "stderr",
     "output_type": "stream",
     "text": [
      "Finished epoch 0/200, loss 97226.691\n",
      "Finished epoch 40/200, loss 94125.328\n",
      "Finished epoch 80/200, loss 85140.587\n",
      "Finished epoch 120/200, loss 74050.505\n",
      "Finished epoch 160/200, loss 61377.490\n"
     ]
    },
    {
     "name": "stdout",
     "output_type": "stream",
     "text": [
      "Computing approximate kNN graph with annoy\n"
     ]
    },
    {
     "name": "stderr",
     "output_type": "stream",
     "text": [
      "Finished epoch 0/200, loss 104476.716\n",
      "Finished epoch 40/200, loss 102236.282\n",
      "Finished epoch 80/200, loss 93141.876\n",
      "Finished epoch 120/200, loss 81665.014\n",
      "Finished epoch 160/200, loss 68302.338\n"
     ]
    },
    {
     "name": "stdout",
     "output_type": "stream",
     "text": [
      "Computing approximate kNN graph with annoy\n"
     ]
    },
    {
     "name": "stderr",
     "output_type": "stream",
     "text": [
      "Finished epoch 0/200, loss 112087.787\n",
      "Finished epoch 40/200, loss 110661.745\n",
      "Finished epoch 80/200, loss 101232.611\n",
      "Finished epoch 120/200, loss 89603.325\n",
      "Finished epoch 160/200, loss 75597.274\n"
     ]
    },
    {
     "name": "stdout",
     "output_type": "stream",
     "text": [
      "Computing approximate kNN graph with annoy\n"
     ]
    },
    {
     "name": "stderr",
     "output_type": "stream",
     "text": [
      "Finished epoch 0/200, loss 120009.663\n",
      "Finished epoch 40/200, loss 119033.392\n",
      "Finished epoch 80/200, loss 109546.776\n",
      "Finished epoch 120/200, loss 97570.201\n",
      "Finished epoch 160/200, loss 83164.734\n"
     ]
    },
    {
     "name": "stdout",
     "output_type": "stream",
     "text": [
      "Computing approximate kNN graph with annoy\n"
     ]
    },
    {
     "name": "stderr",
     "output_type": "stream",
     "text": [
      "Finished epoch 0/200, loss 128149.869\n",
      "Finished epoch 40/200, loss 127556.644\n",
      "Finished epoch 80/200, loss 117919.871\n",
      "Finished epoch 120/200, loss 105797.495\n",
      "Finished epoch 160/200, loss 90966.297\n"
     ]
    },
    {
     "name": "stdout",
     "output_type": "stream",
     "text": [
      "Computing approximate kNN graph with annoy\n"
     ]
    },
    {
     "name": "stderr",
     "output_type": "stream",
     "text": [
      "Finished epoch 0/200, loss 136385.293\n",
      "Finished epoch 40/200, loss 136094.275\n",
      "Finished epoch 80/200, loss 126361.937\n",
      "Finished epoch 120/200, loss 114062.345\n",
      "Finished epoch 160/200, loss 99005.202\n"
     ]
    },
    {
     "name": "stdout",
     "output_type": "stream",
     "text": [
      "Computing approximate kNN graph with annoy\n"
     ]
    },
    {
     "name": "stderr",
     "output_type": "stream",
     "text": [
      "Finished epoch 0/200, loss 144763.992\n",
      "Finished epoch 40/200, loss 144697.137\n",
      "Finished epoch 80/200, loss 134865.740\n",
      "Finished epoch 120/200, loss 122514.065\n",
      "Finished epoch 160/200, loss 107139.633\n"
     ]
    },
    {
     "name": "stdout",
     "output_type": "stream",
     "text": [
      "Computing approximate kNN graph with annoy\n"
     ]
    },
    {
     "name": "stderr",
     "output_type": "stream",
     "text": [
      "Finished epoch 0/200, loss 153331.909\n",
      "Finished epoch 40/200, loss 153245.920\n",
      "Finished epoch 80/200, loss 143435.098\n",
      "Finished epoch 120/200, loss 130952.825\n",
      "Finished epoch 160/200, loss 115445.569\n"
     ]
    },
    {
     "name": "stdout",
     "output_type": "stream",
     "text": [
      "Computing approximate kNN graph with annoy\n"
     ]
    },
    {
     "name": "stderr",
     "output_type": "stream",
     "text": [
      "Finished epoch 0/200, loss 161910.246\n",
      "Finished epoch 40/200, loss 161874.905\n",
      "Finished epoch 80/200, loss 152086.009\n",
      "Finished epoch 120/200, loss 139411.125\n",
      "Finished epoch 160/200, loss 123813.668\n"
     ]
    },
    {
     "name": "stdout",
     "output_type": "stream",
     "text": [
      "Computing approximate kNN graph with annoy\n"
     ]
    },
    {
     "name": "stderr",
     "output_type": "stream",
     "text": [
      "Finished epoch 0/200, loss 170577.302\n",
      "Finished epoch 40/200, loss 170472.115\n",
      "Finished epoch 80/200, loss 160804.070\n",
      "Finished epoch 120/200, loss 148026.003\n",
      "Finished epoch 160/200, loss 132299.524\n"
     ]
    },
    {
     "name": "stdout",
     "output_type": "stream",
     "text": [
      "Computing approximate kNN graph with annoy\n"
     ]
    },
    {
     "name": "stderr",
     "output_type": "stream",
     "text": [
      "Finished epoch 0/200, loss 179259.636\n",
      "Finished epoch 40/200, loss 179249.482\n",
      "Finished epoch 80/200, loss 169475.750\n",
      "Finished epoch 120/200, loss 156669.127\n",
      "Finished epoch 160/200, loss 140796.612\n"
     ]
    },
    {
     "name": "stdout",
     "output_type": "stream",
     "text": [
      "Computing approximate kNN graph with annoy\n"
     ]
    },
    {
     "name": "stderr",
     "output_type": "stream",
     "text": [
      "Finished epoch 0/200, loss 187958.480\n",
      "Finished epoch 40/200, loss 187899.130\n",
      "Finished epoch 80/200, loss 178050.107\n",
      "Finished epoch 120/200, loss 165371.082\n",
      "Finished epoch 160/200, loss 149361.112\n"
     ]
    },
    {
     "name": "stdout",
     "output_type": "stream",
     "text": [
      "Computing approximate kNN graph with annoy\n"
     ]
    },
    {
     "name": "stderr",
     "output_type": "stream",
     "text": [
      "Finished epoch 0/200, loss 196682.808\n",
      "Finished epoch 40/200, loss 196841.267\n",
      "Finished epoch 80/200, loss 186811.867\n",
      "Finished epoch 120/200, loss 174029.688\n",
      "Finished epoch 160/200, loss 158033.674\n"
     ]
    },
    {
     "name": "stdout",
     "output_type": "stream",
     "text": [
      "Computing approximate kNN graph with annoy\n"
     ]
    },
    {
     "name": "stderr",
     "output_type": "stream",
     "text": [
      "Finished epoch 0/200, loss 205463.290\n",
      "Finished epoch 40/200, loss 205585.848\n",
      "Finished epoch 80/200, loss 195551.279\n",
      "Finished epoch 120/200, loss 182784.910\n",
      "Finished epoch 160/200, loss 166678.914\n"
     ]
    },
    {
     "name": "stdout",
     "output_type": "stream",
     "text": [
      "Computing approximate kNN graph with annoy\n"
     ]
    },
    {
     "name": "stderr",
     "output_type": "stream",
     "text": [
      "Finished epoch 0/200, loss 214173.244\n",
      "Finished epoch 40/200, loss 214274.944\n",
      "Finished epoch 80/200, loss 204399.149\n",
      "Finished epoch 120/200, loss 191529.508\n",
      "Finished epoch 160/200, loss 175379.096\n"
     ]
    },
    {
     "name": "stdout",
     "output_type": "stream",
     "text": [
      "Computing approximate kNN graph with annoy\n"
     ]
    },
    {
     "name": "stderr",
     "output_type": "stream",
     "text": [
      "Finished epoch 0/200, loss 222714.593\n",
      "Finished epoch 40/200, loss 222987.629\n",
      "Finished epoch 80/200, loss 213142.438\n",
      "Finished epoch 120/200, loss 200223.024\n",
      "Finished epoch 160/200, loss 184108.594\n",
      "/var/folders/6y/qgvrbn_j2v35vfy946hlhh9c0000gn/T/ipykernel_4578/1714005033.py:43: DeprecationWarning: Starting with ImageIO v3 the behavior of this function will switch to that of iio.v3.imread. To keep the current behavior (and make this warning disappear) use `import imageio.v2 as imageio` or call `imageio.v2.imread` directly.\n",
      "  images = [imageio.imread(image_file) for image_file in image_files]\n"
     ]
    }
   ],
   "source": [
    "import cne\n",
    "import matplotlib.pyplot as plt\n",
    "import imageio\n",
    "import numpy as np\n",
    "from PIL import Image\n",
    "\n",
    "# Compute spectrum with negative sampling loss\n",
    "spec_params = np.arange(-3.0, 3.1, 0.1)  # Generate values from -3.0 to 3.0 with a step of 0.1\n",
    "\n",
    "neg_embeddings = {}\n",
    "for s in spec_params:\n",
    "    embedder = cne.CNE(loss_mode=\"neg\", s=s)\n",
    "    embd = embedder.fit_transform(cells)\n",
    "    neg_embeddings[s] = embd\n",
    "\n",
    "    # Plot and save embeddings with black points\n",
    "    plt.figure()\n",
    "    plt.scatter(*embd.T, alpha=0.5, s=10.0, color=\"black\", edgecolor=\"none\")\n",
    "    plt.gca().set_aspect(\"equal\")\n",
    "    plt.axis(\"off\")\n",
    "    plt.savefig(os.path.join(save_dir, f\"embedding_s_{s:.1f}.png\"), bbox_inches='tight')\n",
    "    plt.close()  # Close the figure to free memory\n",
    "\n",
    "# Determine the size of the first image\n",
    "first_image_path = os.path.join(save_dir, f\"embedding_s_{spec_params[0]:.1f}.png\")\n",
    "first_image = Image.open(first_image_path)\n",
    "image_size = first_image.size\n",
    "\n",
    "# Resize all images to the size of the first image. Weird quick we have to deal with.\n",
    "image_files = []\n",
    "for s in spec_params:\n",
    "    image_path = os.path.join(save_dir, f\"embedding_s_{s:.1f}.png\")\n",
    "    image = Image.open(image_path)\n",
    "    image_resized = image.resize(image_size)\n",
    "    resized_path = os.path.join(save_dir, f\"resized_embedding_s_{s:.1f}.png\")\n",
    "    image_resized.save(resized_path)\n",
    "    image_files.append(resized_path)\n",
    "\n",
    "# Append the reverse sequence to loop back\n",
    "image_files += image_files[::-1]\n",
    "\n",
    "# Create a GIF\n",
    "images = [imageio.imread(image_file) for image_file in image_files]\n",
    "imageio.mimsave(os.path.join(save_dir, \"spectrum_animation.gif\"), images, duration=0.1)\n"
   ]
  }
 ],
 "metadata": {
  "kernelspec": {
   "display_name": ".venv",
   "language": "python",
   "name": "python3"
  },
  "language_info": {
   "codemirror_mode": {
    "name": "ipython",
    "version": 3
   },
   "file_extension": ".py",
   "mimetype": "text/x-python",
   "name": "python",
   "nbconvert_exporter": "python",
   "pygments_lexer": "ipython3",
   "version": "3.12.1"
  }
 },
 "nbformat": 4,
 "nbformat_minor": 2
}
